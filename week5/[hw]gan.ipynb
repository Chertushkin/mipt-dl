{
  "cells": [
    {
      "cell_type": "markdown",
      "metadata": {
        "id": "xG34LB_ov1SV"
      },
      "source": [
        "<p style=\"align: center;\"><img align=center src=\"https://drive.google.com/uc?export=view&id=1I8kDikouqpH4hf7JBiSYAeNT2IO52T-T\" width=600 height=480/></p>\n",
        "<h3 style=\"text-align: center;\"><b>Школа глубокого обучения ФПМИ МФТИ</b></h3>\n",
        "\n",
        "<h3 style=\"text-align: center;\"><b>Домашнее задание. Generative adversarial networks</b></h3>\n",
        "\n"
      ]
    },
    {
      "cell_type": "markdown",
      "metadata": {
        "id": "JEZSpS6zv5BP"
      },
      "source": [
        "В этом домашнем задании вы обучите GAN генерировать лица людей и посмотрите на то, как можно оценивать качество генерации"
      ]
    },
    {
      "cell_type": "code",
      "execution_count": 219,
      "metadata": {
        "id": "iIXHhd1ZvuSY"
      },
      "outputs": [],
      "source": [
        "import os\n",
        "from torch.utils.data import DataLoader\n",
        "from torchvision.datasets import ImageFolder\n",
        "import torchvision.transforms as tt\n",
        "import torch\n",
        "import torch.nn as nn\n",
        "import cv2\n",
        "from tqdm.notebook import tqdm\n",
        "from torchvision.utils import save_image\n",
        "from torchvision.utils import make_grid\n",
        "import numpy as np\n",
        "import matplotlib.pyplot as plt\n",
        "import seaborn as sns\n",
        "%matplotlib inline\n",
        "\n",
        "sns.set(style='darkgrid', font_scale=1.2)"
      ]
    },
    {
      "cell_type": "code",
      "execution_count": 220,
      "metadata": {},
      "outputs": [],
      "source": [
        "device = 'cuda' if torch.cuda.is_available() else 'cpu'"
      ]
    },
    {
      "cell_type": "markdown",
      "metadata": {
        "id": "WrmSpt5e478V"
      },
      "source": [
        "## Часть 1. Подготовка данных (1 балл)"
      ]
    },
    {
      "cell_type": "markdown",
      "metadata": {
        "id": "Dp2fR2Jd2eoh"
      },
      "source": [
        "В качестве обучающей выборки возьмем часть датасета [Flickr Faces](https://github.com/NVlabs/ffhq-dataset), который содержит изображения лиц людей в высоком разрешении (1024х1024). Оригинальный датасет очень большой, поэтому мы возьмем его часть. Скачать датасет можно [здесь](https://drive.google.com/file/d/1KWPc4Pa7u2TWekUvNu9rTSO0U2eOlZA9/view?usp=sharing)"
      ]
    },
    {
      "cell_type": "markdown",
      "metadata": {
        "id": "s0uiO3Za40iK"
      },
      "source": [
        "Давайте загрузим наши изображения. Напишите функцию, которая строит DataLoader для изображений, при этом меняя их размер до нужного значения (размер 1024 слишком большой, поэтому мы рекомендуем взять размер 128 либо немного больше)"
      ]
    },
    {
      "cell_type": "code",
      "execution_count": 221,
      "metadata": {},
      "outputs": [],
      "source": [
        "# !ls ~/Downloads -la\n",
        "# !mv ~/Downloads/thumbnails128x128.zip ./"
      ]
    },
    {
      "cell_type": "code",
      "execution_count": 222,
      "metadata": {},
      "outputs": [],
      "source": [
        "# !unzip -q thumbnails128x128.zip -d flickr_faces/"
      ]
    },
    {
      "cell_type": "code",
      "execution_count": 223,
      "metadata": {},
      "outputs": [
        {
          "name": "stdout",
          "output_type": "stream",
          "text": [
            "00000\n",
            "02000\n",
            "03000\n"
          ]
        }
      ],
      "source": [
        "!ls flickr_faces/thumbnails128x128 | head -n 3"
      ]
    },
    {
      "cell_type": "code",
      "execution_count": 224,
      "metadata": {},
      "outputs": [],
      "source": [
        "DATA_DIR = 'flickr_faces/thumbnails128x128'"
      ]
    },
    {
      "cell_type": "code",
      "execution_count": 225,
      "metadata": {},
      "outputs": [],
      "source": [
        "from torch.utils.data import DataLoader\n",
        "from torchvision.datasets import ImageFolder\n",
        "import torchvision"
      ]
    },
    {
      "cell_type": "code",
      "execution_count": 226,
      "metadata": {},
      "outputs": [],
      "source": [
        "# dir(torchvision)"
      ]
    },
    {
      "cell_type": "code",
      "execution_count": 245,
      "metadata": {
        "id": "CObqZZVdyyVg"
      },
      "outputs": [],
      "source": [
        "def get_dataloader(image_size, batch_size):\n",
        "    \"\"\"\n",
        "    Builds dataloader for training data.\n",
        "    Use tt.Compose and tt.Resize for transformations\n",
        "    :param image_size: height and wdith of the image\n",
        "    :param batch_size: batch_size of the dataloader\n",
        "    :returns: DataLoader object \n",
        "    \"\"\"\n",
        "    # TODO: resize images, convert them to tensors and build dataloader\n",
        "    apply_transform = torchvision.transforms.Compose(\n",
        "        [\n",
        "            torchvision.transforms.ToTensor(),\n",
        "            torchvision.transforms.transforms.Resize(image_size),\n",
        "        ]\n",
        "    )\n",
        "    ds = ImageFolder(DATA_DIR, transform=apply_transform)\n",
        "    data_loader = DataLoader(ds, batch_size=batch_size, shuffle=True)\n",
        "    return data_loader"
      ]
    },
    {
      "cell_type": "code",
      "execution_count": 275,
      "metadata": {
        "id": "iwoDGf7myHPI"
      },
      "outputs": [],
      "source": [
        "image_size = 128\n",
        "batch_size = 1\n",
        "train_loader = get_dataloader(image_size, batch_size)"
      ]
    },
    {
      "cell_type": "code",
      "execution_count": 276,
      "metadata": {},
      "outputs": [],
      "source": [
        "# for batch in train_loader:\n",
        "#     print(len(batch))"
      ]
    },
    {
      "cell_type": "markdown",
      "metadata": {
        "id": "TgJiWnue5Aim"
      },
      "source": [
        "## Часть 2. Построение и обучение модели (2 балла)"
      ]
    },
    {
      "cell_type": "markdown",
      "metadata": {
        "id": "n00W_EXg72er"
      },
      "source": [
        "Сконструируйте генератор и дискриминатор. Помните, что:\n",
        "* дискриминатор принимает на вход изображение (тензор размера `3 x image_size x image_size`) и выдает вероятность того, что изображение настоящее (тензор размера 1)\n",
        "\n",
        "* генератор принимает на вход тензор шумов размера `latent_size x 1 x 1` и генерирует изображение размера `3 x image_size x image_size`"
      ]
    },
    {
      "cell_type": "code",
      "execution_count": 300,
      "metadata": {},
      "outputs": [],
      "source": [
        "class MyDiscriminator(nn.Module):\n",
        "    def __init__(self):\n",
        "        super().__init__()\n",
        "        self.classifier = nn.Sequential(\n",
        "            nn.Conv2d(3, 8, 3), \n",
        "            nn.MaxPool2d(2), \n",
        "            nn.ReLU(), \n",
        "            nn.Conv2d(8, 16, 3), \n",
        "            nn.MaxPool2d(2), \n",
        "            nn.ReLU(), \n",
        "            nn.Conv2d(16, 32, 3),\n",
        "            nn.MaxPool2d(2),\n",
        "            nn.ReLU(), \n",
        "            nn.Conv2d(32, 64, 3),\n",
        "            nn.MaxPool2d(2),\n",
        "            nn.ReLU(),\n",
        "            nn.Conv2d(64, 128, 3),\n",
        "            nn.MaxPool2d(2),\n",
        "            nn.ReLU(),\n",
        "            nn.Flatten(),\n",
        "            nn.Linear(128*2*2, 1),\n",
        "            # nn.Sigmoid()\n",
        "        )\n",
        "\n",
        "    def forward(self, x):\n",
        "        x = self.classifier(x)\n",
        "        return x"
      ]
    },
    {
      "cell_type": "code",
      "execution_count": 301,
      "metadata": {},
      "outputs": [],
      "source": [
        "discriminator = MyDiscriminator()\n",
        "discriminator = discriminator.to(device)"
      ]
    },
    {
      "cell_type": "code",
      "execution_count": 302,
      "metadata": {
        "id": "zLMOs5O51BdB"
      },
      "outputs": [],
      "source": [
        "class MyGenerator(nn.Module):\n",
        "    def __init__(self, latent_size, image_size):\n",
        "        super().__init__()\n",
        "        self.latent_size = latent_size\n",
        "        self.image_size = image_size\n",
        "\n",
        "        self.generator = nn.Sequential(\n",
        "            nn.ConvTranspose2d(self.latent_size, 128, 3, stride=2),\n",
        "            nn.ReLU(),\n",
        "            nn.ConvTranspose2d(128, 64, 3, stride=2),\n",
        "            nn.ReLU(),\n",
        "            nn.ConvTranspose2d(64, 32, 3, stride=2),\n",
        "            nn.ReLU(),\n",
        "            nn.ConvTranspose2d(32, 16, 3, stride=2),\n",
        "            nn.ReLU(),\n",
        "            nn.ConvTranspose2d(16, 8, 3, stride=2),\n",
        "            nn.ReLU(),\n",
        "            nn.ConvTranspose2d(8, 3, 3, stride=2, output_padding=1),\n",
        "        )\n",
        "\n",
        "    def forward(self, x):\n",
        "        x = self.generator(x)\n",
        "        return x"
      ]
    },
    {
      "cell_type": "code",
      "execution_count": 303,
      "metadata": {
        "id": "Qrnjt3qZ1IBj"
      },
      "outputs": [],
      "source": [
        "latent_size = 100 # choose latent size\n",
        "\n",
        "generator = MyGenerator(latent_size, image_size)\n",
        "generator = generator.to(device)"
      ]
    },
    {
      "cell_type": "code",
      "execution_count": 304,
      "metadata": {},
      "outputs": [],
      "source": [
        "random_noise = torch.randn((16, latent_size, 1, 1))"
      ]
    },
    {
      "cell_type": "code",
      "execution_count": 305,
      "metadata": {},
      "outputs": [
        {
          "data": {
            "text/plain": [
              "(array([  7.,   7.,  14.,  23.,  56.,  77., 111., 125., 165., 185., 177.,\n",
              "        200., 161., 115.,  72.,  57.,  23.,  12.,   9.,   4.]),\n",
              " array([-3.07916117, -2.77398443, -2.46880746, -2.16363072, -1.85845375,\n",
              "        -1.55327702, -1.24810016, -0.94292325, -0.63774645, -0.3325696 ,\n",
              "        -0.02739275,  0.27778411,  0.58296096,  0.88813776,  1.19331467,\n",
              "         1.49849153,  1.80366826,  2.10884523,  2.41402197,  2.71919894,\n",
              "         3.02437568]),\n",
              " <BarContainer object of 20 artists>)"
            ]
          },
          "execution_count": 305,
          "metadata": {},
          "output_type": "execute_result"
        },
        {
          "data": {
            "image/png": "[encoded data removed]",
            "text/plain": [
              "<Figure size 640x480 with 1 Axes>"
            ]
          },
          "metadata": {},
          "output_type": "display_data"
        }
      ],
      "source": [
        "import matplotlib.pyplot as plt\n",
        "points = []\n",
        "for i in range(len(random_noise)):\n",
        "    points_i = random_noise.numpy()[i].squeeze()\n",
        "    for j in range(len(points_i)):\n",
        "        points.append(points_i[j])\n",
        "plt.hist(points, bins=20)"
      ]
    },
    {
      "cell_type": "markdown",
      "metadata": {
        "id": "MDHQaIzQ0B4S"
      },
      "source": [
        "Перейдем теперь к обучению нашего GANа. Алгоритм обучения следующий:\n",
        "1. Учим дискриминатор:\n",
        "  * берем реальные изображения и присваиваем им метку 1\n",
        "  * генерируем изображения генератором и присваиваем им метку 0\n",
        "  * обучаем классификатор на два класса\n",
        "\n",
        "2. Учим генератор:\n",
        "  * генерируем изображения генератором и присваиваем им метку 0\n",
        "  * предсказываем дискриминаторором, реальное это изображение или нет\n",
        "\n",
        "\n",
        "В качестве функции потерь берем бинарную кросс-энтропию"
      ]
    },
    {
      "cell_type": "code",
      "execution_count": 306,
      "metadata": {},
      "outputs": [],
      "source": [
        "discriminator = MyDiscriminator()\n",
        "discriminator = discriminator.to(device)\n",
        "\n",
        "generator = MyGenerator(latent_size, image_size)\n",
        "generator = generator.to(device)"
      ]
    },
    {
      "cell_type": "code",
      "execution_count": 307,
      "metadata": {
        "id": "H2u0HPmk3B78"
      },
      "outputs": [],
      "source": [
        "lr = 0.0001\n",
        "\n",
        "model = {\n",
        "    \"discriminator\": discriminator,\n",
        "    \"generator\": generator\n",
        "}\n",
        "\n",
        "criterion = {\n",
        "    \"discriminator\": nn.BCELoss(),\n",
        "    \"generator\": nn.BCELoss()\n",
        "}"
      ]
    },
    {
      "cell_type": "code",
      "execution_count": 308,
      "metadata": {},
      "outputs": [],
      "source": [
        "def fit(model, criterion, loader, epochs, lr):\n",
        "    optimizer = {\n",
        "        'discriminator': torch.optim.SGD(model['discriminator'].parameters(), lr=lr, momentum=0.9, nesterov=True)\n",
        "    }\n",
        "    model['discriminator'].train()\n",
        "\n",
        "    \n",
        "    for epoch in range(epochs):\n",
        "        for X, _ in loader:\n",
        "            optimizer['discriminator'].zero_grad()\n",
        "            batch_size = len(X)\n",
        "            real_y = torch.ones(batch_size).to(device)\n",
        "            fake_y = torch.zeros(batch_size).to(device)\n",
        "\n",
        "            real_images = X.to(device)\n",
        "            random_noise = torch.randn((batch_size, latent_size, 1, 1)).to(device)\n",
        "            fake_images = model['generator'](random_noise)\n",
        "            \n",
        "            the_batch = torch.concat([real_images, fake_images])\n",
        "            the_y = torch.concat([real_y, fake_y])\n",
        "\n",
        "            probs = model['discriminator'](the_batch)\n",
        "            loss = criterion['discriminator'](the_y, probs)\n",
        "\n",
        "            print(probs)\n",
        "            print(the_y)\n",
        "            print('------------------')\n",
        "            print(loss)\n",
        "            \n",
        "            loss.backward()\n",
        "            optimizer['discriminator'].step()\n",
        "            break"
      ]
    },
    {
      "cell_type": "code",
      "execution_count": 309,
      "metadata": {},
      "outputs": [
        {
          "ename": "ValueError",
          "evalue": "Using a target size (torch.Size([2, 1])) that is different to the input size (torch.Size([2])) is deprecated. Please ensure they have the same size.",
          "output_type": "error",
          "traceback": [
            "\u001b[0;31m---------------------------------------------------------------------------\u001b[0m",
            "\u001b[0;31mValueError\u001b[0m                                Traceback (most recent call last)",
            "Cell \u001b[0;32mIn[309], line 1\u001b[0m\n\u001b[0;32m----> 1\u001b[0m fit(model, criterion, train_loader, \u001b[39m1\u001b[39;49m, lr)\n",
            "Cell \u001b[0;32mIn[308], line 23\u001b[0m, in \u001b[0;36mfit\u001b[0;34m(model, criterion, loader, epochs, lr)\u001b[0m\n\u001b[1;32m     20\u001b[0m the_y \u001b[39m=\u001b[39m torch\u001b[39m.\u001b[39mconcat([real_y, fake_y])\n\u001b[1;32m     22\u001b[0m probs \u001b[39m=\u001b[39m model[\u001b[39m'\u001b[39m\u001b[39mdiscriminator\u001b[39m\u001b[39m'\u001b[39m](the_batch)\n\u001b[0;32m---> 23\u001b[0m loss \u001b[39m=\u001b[39m criterion[\u001b[39m'\u001b[39;49m\u001b[39mdiscriminator\u001b[39;49m\u001b[39m'\u001b[39;49m](the_y, probs)\n\u001b[1;32m     25\u001b[0m \u001b[39mprint\u001b[39m(probs)\n\u001b[1;32m     26\u001b[0m \u001b[39mprint\u001b[39m(the_y)\n",
            "File \u001b[0;32m~/.local/lib/python3.10/site-packages/torch/nn/modules/module.py:1190\u001b[0m, in \u001b[0;36mModule._call_impl\u001b[0;34m(self, *input, **kwargs)\u001b[0m\n\u001b[1;32m   1186\u001b[0m \u001b[39m# If we don't have any hooks, we want to skip the rest of the logic in\u001b[39;00m\n\u001b[1;32m   1187\u001b[0m \u001b[39m# this function, and just call forward.\u001b[39;00m\n\u001b[1;32m   1188\u001b[0m \u001b[39mif\u001b[39;00m \u001b[39mnot\u001b[39;00m (\u001b[39mself\u001b[39m\u001b[39m.\u001b[39m_backward_hooks \u001b[39mor\u001b[39;00m \u001b[39mself\u001b[39m\u001b[39m.\u001b[39m_forward_hooks \u001b[39mor\u001b[39;00m \u001b[39mself\u001b[39m\u001b[39m.\u001b[39m_forward_pre_hooks \u001b[39mor\u001b[39;00m _global_backward_hooks\n\u001b[1;32m   1189\u001b[0m         \u001b[39mor\u001b[39;00m _global_forward_hooks \u001b[39mor\u001b[39;00m _global_forward_pre_hooks):\n\u001b[0;32m-> 1190\u001b[0m     \u001b[39mreturn\u001b[39;00m forward_call(\u001b[39m*\u001b[39;49m\u001b[39minput\u001b[39;49m, \u001b[39m*\u001b[39;49m\u001b[39m*\u001b[39;49mkwargs)\n\u001b[1;32m   1191\u001b[0m \u001b[39m# Do not call functions when jit is used\u001b[39;00m\n\u001b[1;32m   1192\u001b[0m full_backward_hooks, non_full_backward_hooks \u001b[39m=\u001b[39m [], []\n",
            "File \u001b[0;32m~/.local/lib/python3.10/site-packages/torch/nn/modules/loss.py:619\u001b[0m, in \u001b[0;36mBCELoss.forward\u001b[0;34m(self, input, target)\u001b[0m\n\u001b[1;32m    618\u001b[0m \u001b[39mdef\u001b[39;00m \u001b[39mforward\u001b[39m(\u001b[39mself\u001b[39m, \u001b[39minput\u001b[39m: Tensor, target: Tensor) \u001b[39m-\u001b[39m\u001b[39m>\u001b[39m Tensor:\n\u001b[0;32m--> 619\u001b[0m     \u001b[39mreturn\u001b[39;00m F\u001b[39m.\u001b[39;49mbinary_cross_entropy(\u001b[39minput\u001b[39;49m, target, weight\u001b[39m=\u001b[39;49m\u001b[39mself\u001b[39;49m\u001b[39m.\u001b[39;49mweight, reduction\u001b[39m=\u001b[39;49m\u001b[39mself\u001b[39;49m\u001b[39m.\u001b[39;49mreduction)\n",
            "File \u001b[0;32m~/.local/lib/python3.10/site-packages/torch/nn/functional.py:3086\u001b[0m, in \u001b[0;36mbinary_cross_entropy\u001b[0;34m(input, target, weight, size_average, reduce, reduction)\u001b[0m\n\u001b[1;32m   3084\u001b[0m     reduction_enum \u001b[39m=\u001b[39m _Reduction\u001b[39m.\u001b[39mget_enum(reduction)\n\u001b[1;32m   3085\u001b[0m \u001b[39mif\u001b[39;00m target\u001b[39m.\u001b[39msize() \u001b[39m!=\u001b[39m \u001b[39minput\u001b[39m\u001b[39m.\u001b[39msize():\n\u001b[0;32m-> 3086\u001b[0m     \u001b[39mraise\u001b[39;00m \u001b[39mValueError\u001b[39;00m(\n\u001b[1;32m   3087\u001b[0m         \u001b[39m\"\u001b[39m\u001b[39mUsing a target size (\u001b[39m\u001b[39m{}\u001b[39;00m\u001b[39m) that is different to the input size (\u001b[39m\u001b[39m{}\u001b[39;00m\u001b[39m) is deprecated. \u001b[39m\u001b[39m\"\u001b[39m\n\u001b[1;32m   3088\u001b[0m         \u001b[39m\"\u001b[39m\u001b[39mPlease ensure they have the same size.\u001b[39m\u001b[39m\"\u001b[39m\u001b[39m.\u001b[39mformat(target\u001b[39m.\u001b[39msize(), \u001b[39minput\u001b[39m\u001b[39m.\u001b[39msize())\n\u001b[1;32m   3089\u001b[0m     )\n\u001b[1;32m   3091\u001b[0m \u001b[39mif\u001b[39;00m weight \u001b[39mis\u001b[39;00m \u001b[39mnot\u001b[39;00m \u001b[39mNone\u001b[39;00m:\n\u001b[1;32m   3092\u001b[0m     new_size \u001b[39m=\u001b[39m _infer_size(target\u001b[39m.\u001b[39msize(), weight\u001b[39m.\u001b[39msize())\n",
            "\u001b[0;31mValueError\u001b[0m: Using a target size (torch.Size([2, 1])) that is different to the input size (torch.Size([2])) is deprecated. Please ensure they have the same size."
          ]
        }
      ],
      "source": [
        "fit(model, criterion, train_loader, 1, lr)"
      ]
    },
    {
      "cell_type": "code",
      "execution_count": null,
      "metadata": {},
      "outputs": [],
      "source": []
    },
    {
      "cell_type": "markdown",
      "metadata": {
        "id": "VkecCSn69DLe"
      },
      "source": [
        "Постройте графики лосса для генератора и дискриминатора. Что вы можете сказать про эти графики?"
      ]
    },
    {
      "cell_type": "markdown",
      "metadata": {
        "id": "kuL3ZZvX5G29"
      },
      "source": [
        "## Часть 3. Генерация изображений (1 балл)"
      ]
    },
    {
      "cell_type": "markdown",
      "metadata": {
        "id": "7q9_WFIl-Bf6"
      },
      "source": [
        "Теперь давайте оценим качество получившихся изображений. Напишите функцию, которая выводит изображения, сгенерированные нашим генератором"
      ]
    },
    {
      "cell_type": "code",
      "execution_count": null,
      "metadata": {
        "id": "Z1tuaMVu1Jqx"
      },
      "outputs": [],
      "source": [
        "n_images = 4\n",
        "\n",
        "fixed_latent = torch.randn(n_images, latent_size, 1, 1, device=device)\n",
        "fake_images = model[\"generator\"](fixed_latent)"
      ]
    },
    {
      "cell_type": "code",
      "execution_count": null,
      "metadata": {
        "id": "D-ZmT6qm4ai5"
      },
      "outputs": [],
      "source": [
        "def show_images(generated):\n",
        "  # TODO: show generated images\n",
        "  pass"
      ]
    },
    {
      "cell_type": "markdown",
      "metadata": {
        "id": "BHqPK3xs-Z-7"
      },
      "source": [
        "Как вам качество получившихся изображений?"
      ]
    },
    {
      "cell_type": "markdown",
      "metadata": {
        "id": "c0z41dA05KAa"
      },
      "source": [
        "## Часть 4. Leave-one-out-1-NN classifier accuracy (6 баллов)"
      ]
    },
    {
      "cell_type": "markdown",
      "metadata": {
        "id": "2C9V8DHX_ipy"
      },
      "source": [
        "### 4.1. Подсчет accuracy (4 балла)"
      ]
    },
    {
      "cell_type": "markdown",
      "metadata": {
        "id": "9wT2uUb4_rku"
      },
      "source": [
        "Не всегда бывает удобно оценивать качество сгенерированных картинок глазами. В качестве альтернативы вам предлагается реализовать следующий подход:\n",
        "  * Сгенерировать столько же фейковых изображений, сколько есть настоящих в обучающей выборке. Присвоить фейковым метку класса 0, настоящим – 1.\n",
        "  * Построить leave-one-out оценку: обучить 1NN Classifier (`sklearn.neighbors.KNeighborsClassifier(n_neighbors=1)`) предсказывать класс на всех объектах, кроме одного, проверить качество (accuracy) на оставшемся объекте. В этом вам поможет `sklearn.model_selection.LeaveOneOut`"
      ]
    },
    {
      "cell_type": "code",
      "execution_count": null,
      "metadata": {
        "id": "vsrgX9X4BfE0"
      },
      "outputs": [],
      "source": []
    },
    {
      "cell_type": "markdown",
      "metadata": {
        "id": "jRU47nCzCVnP"
      },
      "source": [
        "Что вы можете сказать о получившемся результате? Какой accuracy мы хотели бы получить и почему?"
      ]
    },
    {
      "cell_type": "markdown",
      "metadata": {
        "id": "FqzHnPOACgoZ"
      },
      "source": [
        "### 4.2. Визуализация распределений (2 балла)"
      ]
    },
    {
      "cell_type": "markdown",
      "metadata": {
        "id": "EweiItWFDYO0"
      },
      "source": [
        "Давайте посмотрим на то, насколько похожи распределения настоящих и фейковых изображений. Для этого воспользуйтесь методом, снижающим размерность (к примеру, TSNE) и изобразите на графике разным цветом точки, соответствующие реальным и сгенерированным изображенияи"
      ]
    },
    {
      "cell_type": "code",
      "execution_count": null,
      "metadata": {
        "id": "UZBJWkWdCepj"
      },
      "outputs": [],
      "source": []
    },
    {
      "cell_type": "markdown",
      "metadata": {
        "id": "ZVZe9tt8DuYh"
      },
      "source": [
        "Прокомментируйте получившийся результат:"
      ]
    },
    {
      "cell_type": "code",
      "execution_count": null,
      "metadata": {
        "id": "z__a1XTPEKaa"
      },
      "outputs": [],
      "source": []
    }
  ],
  "metadata": {
    "colab": {
      "provenance": [],
      "toc_visible": true
    },
    "kernelspec": {
      "display_name": "ml",
      "language": "python",
      "name": "python3"
    },
    "language_info": {
      "codemirror_mode": {
        "name": "ipython",
        "version": 3
      },
      "file_extension": ".py",
      "mimetype": "text/x-python",
      "name": "python",
      "nbconvert_exporter": "python",
      "pygments_lexer": "ipython3",
      "version": "3.10.8"
    },
    "vscode": {
      "interpreter": {
        "hash": "54dd33f612a42928eaa3d2d50b3f50c5c2669e5cd5388b2a0b4a2eac894dab71"
      }
    }
  },
  "nbformat": 4,
  "nbformat_minor": 0
}
